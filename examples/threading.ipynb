{
 "cells": [
  {
   "cell_type": "code",
   "execution_count": 2,
   "metadata": {},
   "outputs": [
    {
     "name": "stdout",
     "output_type": "stream",
     "text": [
      "Hola\n",
      "El for\n",
      "El for\n",
      "El for\n",
      "Hola\n",
      "El for\n",
      "El for\n",
      "El for\n"
     ]
    },
    {
     "ename": "KeyboardInterrupt",
     "evalue": "",
     "output_type": "error",
     "traceback": [
      "\u001b[0;31m---------------------------------------------------------------------------\u001b[0m",
      "\u001b[0;31mKeyboardInterrupt\u001b[0m                         Traceback (most recent call last)",
      "Cell \u001b[0;32mIn[2], line 7\u001b[0m\n\u001b[1;32m      4\u001b[0m \u001b[38;5;28;01mfor\u001b[39;00m _ \u001b[38;5;129;01min\u001b[39;00m \u001b[38;5;28mrange\u001b[39m(\u001b[38;5;241m3\u001b[39m):\n\u001b[1;32m      5\u001b[0m     \u001b[38;5;28mprint\u001b[39m(\u001b[38;5;124m'\u001b[39m\u001b[38;5;124mEl for\u001b[39m\u001b[38;5;124m'\u001b[39m)\n\u001b[0;32m----> 7\u001b[0m \u001b[43mtime\u001b[49m\u001b[38;5;241;43m.\u001b[39;49m\u001b[43msleep\u001b[49m\u001b[43m(\u001b[49m\u001b[38;5;241;43m3\u001b[39;49m\u001b[43m)\u001b[49m\n",
      "\u001b[0;31mKeyboardInterrupt\u001b[0m: "
     ]
    }
   ],
   "source": [
    "import time\n",
    "while True:\n",
    "    print('Hola')\n",
    "    for _ in range(3):\n",
    "        print('El for')\n",
    "       \n",
    "    time.sleep(3)\n",
    "    "
   ]
  },
  {
   "cell_type": "markdown",
   "metadata": {},
   "source": [
    "Ejemplo uso hilo demonio"
   ]
  },
  {
   "cell_type": "markdown",
   "metadata": {},
   "source": [
    "# Nota Al ejecutarse en un notebook el hilo demonio no funciona correctamente ya que hay otros hilos ejecutandose por ende este no termina para ver su funcionamiento ver ejemplo hilo demonio.py\n"
   ]
  },
  {
   "cell_type": "code",
   "execution_count": 2,
   "metadata": {},
   "outputs": [
    {
     "name": "stdout",
     "output_type": "stream",
     "text": [
      "Hilo demonio iniciado\n",
      "Ejecutando algo en el hilo principal\n",
      "Programa principal terminando\n"
     ]
    },
    {
     "name": "stdout",
     "output_type": "stream",
     "text": [
      "Hilo demonio despertando\n"
     ]
    }
   ],
   "source": [
    "\n",
    "import threading\n",
    "import time\n",
    "\n",
    "def tarea_en_fondo():\n",
    "    print(\"Hilo demonio iniciado\")\n",
    "    time.sleep(10)  # Este hilo dormiría durante 10 segundos\n",
    "    print(\"Hilo demonio despertando\")\n",
    "\n",
    "# Crear un hilo demonio\n",
    "hilo_demonio = threading.Thread(target=tarea_en_fondo)\n",
    "hilo_demonio.daemon = True  # Marcar el hilo como demonio\n",
    "hilo_demonio.start()\n",
    "\n",
    "# Ejecutar algo en el hilo principal\n",
    "print(\"Ejecutando algo en el hilo principal\")\n",
    "time.sleep(5)  # Hacer que el hilo principal duerma durante 5 segundos\n",
    "print(\"Programa principal terminando\")\n"
   ]
  },
  {
   "cell_type": "code",
   "execution_count": 1,
   "metadata": {},
   "outputs": [
    {
     "name": "stdout",
     "output_type": "stream",
     "text": [
      "Hilo demonio iniciado\n",
      "Programa principal finalizado\n"
     ]
    },
    {
     "name": "stdout",
     "output_type": "stream",
     "text": [
      "Hilo demonio finalizado\n"
     ]
    }
   ],
   "source": [
    "import threading\n",
    "import time\n",
    "\n",
    "def worker():\n",
    "    print(\"Hilo demonio iniciado\")\n",
    "    time.sleep(5)\n",
    "    print(\"Hilo demonio finalizado\")\n",
    "\n",
    "daemon_thread = threading.Thread(target=worker)\n",
    "daemon_thread.daemon = True\n",
    "daemon_thread.start()\n",
    "\n",
    "print(\"Programa principal finalizado\")"
   ]
  },
  {
   "cell_type": "code",
   "execution_count": 1,
   "metadata": {},
   "outputs": [
    {
     "name": "stdout",
     "output_type": "stream",
     "text": [
      "Hilo demonio iniciado\n",
      "Programa principal iniciado.\n",
      "Tarea 1 en ejecución...\n",
      "Tarea 2 en ejecución...\n",
      "Tarea 3 en ejecución...\n",
      "Hilo demonio finalizado\n",
      "Programa principal finalizado.\n"
     ]
    }
   ],
   "source": [
    "import threading\n",
    "import time\n",
    "\n",
    "def worker():\n",
    "    print(\"Hilo demonio iniciado\")\n",
    "    time.sleep(5)\n",
    "    print(\"Hilo demonio finalizado\")\n",
    "\n",
    "thread = threading.Thread(target=worker, daemon=True)\n",
    "thread.start()\n",
    "\n",
    "print(\"Programa principal iniciado.\")\n",
    "\n",
    "# Simulamos que el programa principal realiza otras tareas\n",
    "for i in range(3):\n",
    "    print(f\"Tarea {i+1} en ejecución...\")\n",
    "    time.sleep(2)\n",
    "\n",
    "print(\"Programa principal finalizado.\")"
   ]
  },
  {
   "cell_type": "markdown",
   "metadata": {},
   "source": [
    "Sin hilo demonio"
   ]
  },
  {
   "cell_type": "code",
   "execution_count": 1,
   "metadata": {},
   "outputs": [
    {
     "name": "stdout",
     "output_type": "stream",
     "text": [
      "Hilo no demonio iniciado\n",
      "Programa principal iniciado.\n",
      "Tarea 1 en ejecución...\n",
      "Tarea 2 en ejecución...\n",
      "Tarea 3 en ejecución...\n",
      "Hilo no demonio finalizado\n",
      "Programa principal finalizado.\n"
     ]
    }
   ],
   "source": [
    "import threading\n",
    "import time\n",
    "\n",
    "def worker():\n",
    "    print(\"Hilo no demonio iniciado\")\n",
    "    time.sleep(5)\n",
    "    print(\"Hilo no demonio finalizado\")\n",
    "\n",
    "thread = threading.Thread(target=worker)\n",
    "thread.start()\n",
    "\n",
    "print(\"Programa principal iniciado.\")\n",
    "\n",
    "# Simulamos que el programa principal realiza otras tareas\n",
    "for i in range(3):\n",
    "    print(f\"Tarea {i+1} en ejecución...\")\n",
    "    time.sleep(2)\n",
    "\n",
    "print(\"Programa principal finalizado.\")"
   ]
  },
  {
   "cell_type": "code",
   "execution_count": 1,
   "metadata": {},
   "outputs": [
    {
     "name": "stdout",
     "output_type": "stream",
     "text": [
      "Hilo demonio iniciado deamon\n"
     ]
    },
    {
     "name": "stdout",
     "output_type": "stream",
     "text": [
      "Hilo demonio finalizado deamon\n"
     ]
    }
   ],
   "source": [
    "import threading\n",
    "import time\n",
    "\n",
    "def worker(text:str):\n",
    "    print(f'Hilo demonio iniciado {text}')\n",
    "    time.sleep(2)\n",
    "    print(f'Hilo demonio finalizado {text}')\n",
    "    \n",
    "\n",
    "deamon_thread=threading.Thread(target=worker,daemon=True,args=('deamon',))\n",
    "\n",
    "deamon_thread.start()\n"
   ]
  },
  {
   "cell_type": "code",
   "execution_count": 1,
   "metadata": {},
   "outputs": [
    {
     "name": "stdout",
     "output_type": "stream",
     "text": [
      "Hilo demonio iniciado deamon\n",
      "Hilo demonio iniciado no deamon\n"
     ]
    },
    {
     "name": "stdout",
     "output_type": "stream",
     "text": [
      "Hilo demonio finalizado deamon\n",
      "Hilo demonio finalizado no deamon\n"
     ]
    }
   ],
   "source": [
    "import threading\n",
    "import time\n",
    "\n",
    "def worker(text:str):\n",
    "    print(f'Hilo demonio iniciado {text}')\n",
    "    time.sleep(2)\n",
    "    print(f'Hilo demonio finalizado {text}')\n",
    "    \n",
    "\n",
    "deamon_thread=threading.Thread(target=worker,daemon=True,args=('deamon',))\n",
    "normal_thread=threading.Thread(target=worker,daemon=False,args=(\"no deamon\",))\n",
    "deamon_thread.start()\n",
    "normal_thread.start()\n",
    "\n"
   ]
  },
  {
   "cell_type": "code",
   "execution_count": 10,
   "metadata": {},
   "outputs": [
    {
     "name": "stdout",
     "output_type": "stream",
     "text": [
      "Hilo demonio iniciado no deamon\n",
      "Hilo demonio iniciado deamon\n"
     ]
    },
    {
     "name": "stdout",
     "output_type": "stream",
     "text": [
      "Hilo demonio finalizado deamon\n",
      "Hilo demonio finalizado no deamon\n"
     ]
    }
   ],
   "source": [
    "import threading\n",
    "import time\n",
    "\n",
    "def worker(text:str):\n",
    "    print(f'Hilo demonio iniciado {text}')\n",
    "    time.sleep(5)\n",
    "    \n",
    "    print(f'Hilo demonio finalizado {text}')\n",
    "    \n",
    "\n",
    "deamon_thread=threading.Thread(target=worker,daemon=True,args=('deamon',))\n",
    "normal_thread=threading.Thread(target=worker,daemon=False,args=(\"no deamon\",))\n",
    "normal_thread.start()\n",
    "deamon_thread.start()\n"
   ]
  },
  {
   "cell_type": "code",
   "execution_count": 2,
   "metadata": {},
   "outputs": [],
   "source": [
    "import threading\n",
    "import time\n",
    "\n",
    "def actualiza_log():\n",
    "    while True:\n",
    "        # Actualizar log\n",
    "        time.sleep(60)  # Espera 60 segundos antes de la próxima actualización\n",
    "\n",
    "# Crear un hilo demonio para actualizar logs cada minuto\n",
    "hilo_demonio = threading.Thread(target=actualiza_log)\n",
    "hilo_demonio.daemon = True\n",
    "hilo_demonio.start()\n"
   ]
  },
  {
   "cell_type": "code",
   "execution_count": 3,
   "metadata": {},
   "outputs": [
    {
     "name": "stdout",
     "output_type": "stream",
     "text": [
      "Procesando el elemento 1\n",
      "Procesando el elemento 2\n",
      "Procesando el elemento 3\n",
      "Procesando el elemento 4\n",
      "Procesando el elemento 5\n",
      "Procesando el elemento 6\n",
      "Procesando el elemento 7\n",
      "Procesando el elemento 8\n",
      "Procesando el elemento 9\n",
      "Procesando el elemento 10\n"
     ]
    },
    {
     "data": {
      "text/plain": [
       "[None, None, None, None, None, None, None, None, None, None]"
      ]
     },
     "execution_count": 3,
     "metadata": {},
     "output_type": "execute_result"
    }
   ],
   "source": [
    "import threading\n",
    "import time\n",
    "import threading\n",
    "from time import sleep\n",
    "\n",
    "# Lista de elementos para procesar\n",
    "items = [1, 2, 3, 4, 5, 6, 7, 8, 9, 10]\n",
    "\n",
    "# Crear un semáforo con un límite de 4 hilos\n",
    "semaphore = threading.Semaphore(value=1)\n",
    "\n",
    "def process_item(item):\n",
    "    semaphore.acquire()  # Adquirir el semáforo\n",
    "    try:\n",
    "        sleep(2)  # Simular tiempo de procesamiento\n",
    "        print(f'Procesando el elemento {item}')\n",
    "        return f'Retorno desde el hilo {item}'\n",
    "    finally:\n",
    "        semaphore.release()  # Liberar el semáforo\n",
    "    \n",
    "        \n",
    "# Crear y lanzar hilos para procesar los elementos\n",
    "threads = [threading.Thread(target=process_item, args=(item,),daemon=False) for item in items]\n",
    "\n",
    "[thread.start() for thread in threads]\n",
    "[thread.join() for thread in threads]\n"
   ]
  },
  {
   "cell_type": "markdown",
   "metadata": {},
   "source": [
    "Utilizar el mismo semáforo en dos métodos hace que se bloqueen las dos hasta que se liberen los recursos"
   ]
  },
  {
   "cell_type": "code",
   "execution_count": null,
   "metadata": {},
   "outputs": [],
   "source": [
    "\n",
    "import threading\n",
    "from time import sleep\n",
    "\n",
    "# Lista de elementos para procesar\n",
    "items = [1, 2, 3, 4, 5, 6, 7, 8, 9, 10]\n",
    "\n",
    "# Crear un semáforo con un límite de 4 hilos\n",
    "semaphore = threading.Semaphore(value=1)\n",
    "\n",
    "def process_item(item):\n",
    "    semaphore.acquire()  # Adquirir el semáforo\n",
    "    try:\n",
    "        sleep(2)  # Simular tiempo de procesamiento\n",
    "        print(f'Procesando el elemento {item}')\n",
    "    finally:\n",
    "        semaphore.release()  # Liberar el semáforo\n",
    "        \n",
    "def process_item_2(item):\n",
    "    semaphore.acquire()  # Adquirir el semáforo\n",
    "    try:\n",
    "        sleep(2)  # Simular tiempo de procesamiento\n",
    "        print(f'Procesando el elemento {item} desde el 2')\n",
    "    finally:\n",
    "        semaphore.release()  # Liberar el semáforo\n",
    "# Crear y lanzar hilos para procesar los elementos\n",
    "threads = [threading.Thread(target=process_item, args=(item,)) for item in items]\n",
    "threads_2 = [threading.Thread(target=process_item_2, args=(item,)) for item in items]\n",
    "[thread.start() for thread in threads]\n",
    "[thread.start() for thread in threads_2]\n",
    "[thread.join() for thread in threads]\n",
    "[thread.join() for thread in threads_2]"
   ]
  },
  {
   "cell_type": "code",
   "execution_count": null,
   "metadata": {},
   "outputs": [],
   "source": [
    "import concurrent.futures\n",
    "import threading\n",
    "from time import sleep\n",
    "\n",
    "# Suponiendo que tienes una función que adquiere un semáforo y realiza alguna operación\n",
    "def task_with_semaphore(semaphore):\n",
    "    semaphore.acquire()\n",
    "    try:\n",
    "        # Simula una operación que puede tardar mucho\n",
    "        sleep(10)\n",
    "        print(\"Operación realizada\")\n",
    "        return 'Retorno'\n",
    "    finally:\n",
    "        semaphore.release()\n",
    "\n",
    "# Crear un semáforo\n",
    "semaphore = threading.Semaphore()\n",
    "\n",
    "# Usar ThreadPoolExecutor para ejecutar la tarea con un timeout\n",
    "with concurrent.futures.ThreadPoolExecutor() as executor:\n",
    "    future = executor.submit(task_with_semaphore, semaphore)\n",
    "    try:\n",
    "        # Intenta obtener el resultado con un timeout de 5 segundos\n",
    "        result = future.result(timeout=2)\n",
    "    except concurrent.futures.TimeoutError:\n",
    "        print(\"Timeout excedido\")\n",
    "    else:\n",
    "        print(\"Resultado:\", result)\n",
    "    \n",
    "        \n"
   ]
  },
  {
   "cell_type": "markdown",
   "metadata": {},
   "source": []
  },
  {
   "cell_type": "code",
   "execution_count": 1,
   "metadata": {},
   "outputs": [
    {
     "name": "stdout",
     "output_type": "stream",
     "text": [
      "{'llave_nueva': 'valor_por_defecto'}\n",
      "{'llave_nueva': 'valor_por_defecto'}\n"
     ]
    }
   ],
   "source": [
    "mi_diccionario = {}\n",
    "\n",
    "# Intentamos añadir una nueva llave con un valor por defecto\n",
    "valor = mi_diccionario.setdefault('llave_nueva', 'valor_por_defecto')\n",
    "\n",
    "print(mi_diccionario)  # Output: {'llave_nueva': 'valor_por_defecto'}\n",
    "\n",
    "# Ahora intentamos añadir la misma llave nuevamente\n",
    "valor = mi_diccionario.setdefault('llave_nueva', 'otro_valor')\n",
    "\n",
    "print(mi_diccionario)  # Output: {'llave_nueva': 'valor_por_defecto'}\n"
   ]
  },
  {
   "cell_type": "code",
   "execution_count": 2,
   "metadata": {},
   "outputs": [
    {
     "data": {
      "text/plain": [
       "{1}"
      ]
     },
     "execution_count": 2,
     "metadata": {},
     "output_type": "execute_result"
    }
   ],
   "source": [
    "a=set()\n",
    "a.add(1)\n",
    "a"
   ]
  },
  {
   "cell_type": "code",
   "execution_count": 4,
   "metadata": {},
   "outputs": [
    {
     "data": {
      "text/plain": [
       "{1}"
      ]
     },
     "execution_count": 4,
     "metadata": {},
     "output_type": "execute_result"
    }
   ],
   "source": [
    "a.add(1)\n",
    "a"
   ]
  },
  {
   "cell_type": "code",
   "execution_count": 10,
   "metadata": {},
   "outputs": [
    {
     "data": {
      "text/plain": [
       "{2: {'Casa'}}"
      ]
     },
     "execution_count": 10,
     "metadata": {},
     "output_type": "execute_result"
    }
   ],
   "source": [
    "dic={}\n",
    "dic.setdefault(2,set(['Casa']))\n",
    "dic"
   ]
  },
  {
   "cell_type": "code",
   "execution_count": 13,
   "metadata": {},
   "outputs": [
    {
     "data": {
      "text/plain": [
       "{2: {'Caa', 'Casa'}}"
      ]
     },
     "execution_count": 13,
     "metadata": {},
     "output_type": "execute_result"
    }
   ],
   "source": [
    "dic[2].add('Caa')\n",
    "dic"
   ]
  },
  {
   "cell_type": "code",
   "execution_count": 16,
   "metadata": {},
   "outputs": [
    {
     "ename": "TypeError",
     "evalue": "'set' object is not subscriptable",
     "output_type": "error",
     "traceback": [
      "\u001b[0;31m---------------------------------------------------------------------------\u001b[0m",
      "\u001b[0;31mTypeError\u001b[0m                                 Traceback (most recent call last)",
      "Cell \u001b[0;32mIn[16], line 2\u001b[0m\n\u001b[1;32m      1\u001b[0m s\u001b[38;5;241m=\u001b[39mdic[\u001b[38;5;241m2\u001b[39m]\n\u001b[0;32m----> 2\u001b[0m \u001b[43ms\u001b[49m\u001b[43m[\u001b[49m\u001b[38;5;241;43m0\u001b[39;49m\u001b[43m]\u001b[49m\n",
      "\u001b[0;31mTypeError\u001b[0m: 'set' object is not subscriptable"
     ]
    }
   ],
   "source": [
    "s=dic[2]\n",
    "s."
   ]
  },
  {
   "cell_type": "code",
   "execution_count": 15,
   "metadata": {},
   "outputs": [
    {
     "name": "stdout",
     "output_type": "stream",
     "text": [
      "Caa\n",
      "Casa\n"
     ]
    }
   ],
   "source": [
    "for i in dic[2]:\n",
    "    print(i)"
   ]
  },
  {
   "cell_type": "code",
   "execution_count": null,
   "metadata": {},
   "outputs": [],
   "source": []
  }
 ],
 "metadata": {
  "kernelspec": {
   "display_name": "Python 3",
   "language": "python",
   "name": "python3"
  },
  "language_info": {
   "codemirror_mode": {
    "name": "ipython",
    "version": 3
   },
   "file_extension": ".py",
   "mimetype": "text/x-python",
   "name": "python",
   "nbconvert_exporter": "python",
   "pygments_lexer": "ipython3",
   "version": "3.10.12"
  }
 },
 "nbformat": 4,
 "nbformat_minor": 2
}
